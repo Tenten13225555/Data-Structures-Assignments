{
 "cells": [
  {
   "cell_type": "code",
   "execution_count": 1,
   "metadata": {},
   "outputs": [
    {
     "name": "stdout",
     "output_type": "stream",
     "text": [
      "<class 'int'>\t<class 'int'>\t<class 'int'>\t<class 'int'>\t<class 'int'>\t<class 'str'>\t<class 'str'>\t[2, 4, 100, 6, 8, 'Monday', 'Tuesday', 'Wednesday', 'Thursday', 'Friday']\n",
      "Your favourite day of the week is: Friday\n"
     ]
    },
    {
     "ename": "TypeError",
     "evalue": "type numpy.ndarray doesn't define __round__ method",
     "output_type": "error",
     "traceback": [
      "\u001b[1;31m---------------------------------------------------------------------------\u001b[0m",
      "\u001b[1;31mTypeError\u001b[0m                                 Traceback (most recent call last)",
      "\u001b[1;32mc:\\Users\\bnana\\OneDrive\\Documents\\School\\Data Structures\\Lab 7\\workbug.ipynb Cell 1\u001b[0m in \u001b[0;36m<cell line: 30>\u001b[1;34m()\u001b[0m\n\u001b[0;32m     <a href='vscode-notebook-cell:/c%3A/Users/bnana/OneDrive/Documents/School/Data%20Structures/Lab%207/workbug.ipynb#W1sZmlsZQ%3D%3D?line=26'>27</a>\u001b[0m \u001b[39m#Calculate mean of the values in each column of 'd', rounding to two decimal places, and print the results.\u001b[39;00m\n\u001b[0;32m     <a href='vscode-notebook-cell:/c%3A/Users/bnana/OneDrive/Documents/School/Data%20Structures/Lab%207/workbug.ipynb#W1sZmlsZQ%3D%3D?line=27'>28</a>\u001b[0m m \u001b[39m=\u001b[39m darray\u001b[39m.\u001b[39mmean(axis \u001b[39m=\u001b[39m \u001b[39m1\u001b[39m)\n\u001b[1;32m---> <a href='vscode-notebook-cell:/c%3A/Users/bnana/OneDrive/Documents/School/Data%20Structures/Lab%207/workbug.ipynb#W1sZmlsZQ%3D%3D?line=29'>30</a>\u001b[0m \u001b[39mprint\u001b[39m(\u001b[39mround\u001b[39;49m(m, \u001b[39m2\u001b[39;49m))\n",
      "\u001b[1;31mTypeError\u001b[0m: type numpy.ndarray doesn't define __round__ method"
     ]
    }
   ],
   "source": [
    "import numpy as np\n",
    "\n",
    "#Create a list 'd' containing the values: 2, 4, 6, 8, 'Monday', 'Tuesday'\n",
    "d = [2, 4, 6, 8, 'Monday', 'Tuesday']\n",
    "\n",
    "#Insert the value 100 between 4 and 6.\n",
    "d.insert(2, 100)\n",
    "\n",
    "#Iterate over 'd', printing the type of each variable to the console. Have a tab character printed after each element, rather than a newline.\n",
    "\n",
    "for x in d:\n",
    "    print(str(type(x)), end='\\t')\n",
    "\n",
    "#Create a new list 'd2' containing the values: 'Wednesday', Thursday', 'Friday'\n",
    "d2 = ['Wednesday', 'Thursday', 'Friday'];\n",
    "\n",
    "#Concatenate the two lists, storing the result in 'd'.\n",
    "d = d + d2;\n",
    "print(d);\n",
    "\n",
    "#Pop the last value off of 'd', and use it in a formatted string to say \"My favourite day of the week is XXX\", where XXX the popped value.\n",
    "print(\"Your favourite day of the week is: \" + str(d.pop()))\n",
    "      \n",
    "#Create a numpy array 'd', containing 10 linearly spaced values from 0 to 35.Reshape 'd' into a 5x2 array, storing the result in 'd'\n",
    "darray = np.linspace(start=0, stop=35, num=10).reshape(5,2);\n",
    "\n",
    "#Calculate mean of the values in each column of 'd', rounding to two decimal places, and print the results.\n",
    "m = darray.mean(axis = 1)\n",
    "\n",
    "#print(round(m, 2))\n",
    "\n",
    "for i in range(len(m[0])):\n",
    "    for j in range(len(m[i][0])):\n",
    "        m[i][j] = round(m,2)\n"
   ]
  }
 ],
 "metadata": {
  "kernelspec": {
   "display_name": "Python 3.9.12 ('base')",
   "language": "python",
   "name": "python3"
  },
  "language_info": {
   "codemirror_mode": {
    "name": "ipython",
    "version": 3
   },
   "file_extension": ".py",
   "mimetype": "text/x-python",
   "name": "python",
   "nbconvert_exporter": "python",
   "pygments_lexer": "ipython3",
   "version": "3.9.12"
  },
  "orig_nbformat": 4,
  "vscode": {
   "interpreter": {
    "hash": "47185277c735d7921a7d5238e23a7dbe2092d7a9a52b0c4318f5436b453a1595"
   }
  }
 },
 "nbformat": 4,
 "nbformat_minor": 2
}
